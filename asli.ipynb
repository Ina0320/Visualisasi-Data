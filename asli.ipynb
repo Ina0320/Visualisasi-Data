{
 "cells": [
  {
   "cell_type": "code",
   "metadata": {},
   "source": [
    "import pandas as pd\n",
    "import matplotlib.pyplot as plt\n",
    "\n",
    "# Membaca data dari file CSV\n",
    "data = pd.read_csv('BBSI.JK.csv')\n",
    "\n",
    "# Mengambil kolom 'High' dan 'Low'\n",
    "high_data = data['High']\n",
    "low_data = data['Low']\n",
    "\n",
    "# Menghitung total dari kedua kolom\n",
    "total_high = high_data.sum()\n",
    "total_low = low_data.sum()\n",
    "\n",
    "# Persentase untuk pie chart\n",
    "percentages = [total_high, total_low]\n",
    "labels = ['High', 'Low']\n",
    "colors = ['lightblue', 'lightgreen']\n",
    "\n",
    "# Data untuk area chart\n",
    "date_data = data['Date']\n",
    "profit = high_data - low_data\n",
    "loss = low_data - high_data\n",
    "\n",
    "# Membuat subplots\n",
    "fig, (ax1, ax2, ax3) = plt.subplots(1, 3, figsize=(18, 6))\n",
    "\n",
    "# Pie chart\n",
    "ax1.pie(percentages, labels=labels, colors=colors, autopct='%1.1f%%', startangle=140)\n",
    "ax1.set_title('Pie Chart Persentase High dan Low')\n",
    "\n",
    "# Box Plot\n",
    "ax2.boxplot([high_data, low_data], labels=['High', 'Low'])\n",
    "ax2.set_title('Box Plot Data High dan Low')\n",
    "ax2.set_xlabel('Kolom Data')\n",
    "ax2.set_ylabel('Nilai')\n",
    "\n",
    "# Area Chart\n",
    "ax3.fill_between(date_data, high_data, low_data, where=(high_data > low_data), color='green', alpha=0.5)\n",
    "ax3.fill_between(date_data, high_data, low_data, where=(high_data <= low_data), color='red', alpha=0.5)\n",
    "ax3.legend()\n",
    "ax3.set_title('Area Chart High vs Low')\n",
    "ax3.set_xlabel('Tanggal')\n",
    "ax3.set_ylabel('Nilai')\n",
    "\n",
    "# Tambahkan teks pada bagian bawah semua chart\n",
    "fig.text(0.5, 0.05, '1. Pie Chart: Data \"High\" mendominasi secara signifikan.\\n'\n",
    "          '2. Box Plot: Variasi dalam data \"High\" lebih besar.\\n'\n",
    "          '3. Area Chart: Menunjukkan fluktuasi yang signifikan antara keduanya.',\n",
    "         ha='center', fontsize=9, color='black')\n",
    "\n",
    "plt.tight_layout()\n",
    "plt.show()"
   ]
  },
  {
   "cell_type": "markdown",
   "metadata": {},
   "source": [
    "Kode di atas adalah contoh penggunaan Python dan library Pandas serta Matplotlib untuk membuat tiga jenis visualisasi data, yaitu Pie Chart, Box Plot, dan Area Chart, menggunakan data dari file CSV. Setiap jenis visualisasi disertai dengan penjelasan singkat di bawahnya."
   ]
  }
 ],
 "metadata": {
  "kernelspec": {
   "display_name": "Python 3",
   "language": "python",
   "name": "python3"
  },
  "language_info": {
   "codemirror_mode": {
    "name": "ipython",
    "version": 3
   },
   "file_extension": ".py",
   "mimetype": "text/x-python",
   "name": "python",
   "nbconvert_exporter": "python",
   "pygments_lexer": "ipython3",
   "version": "3.9.6"
  }
 },
 "nbformat": 4,
 "nbformat_minor": 5
}
